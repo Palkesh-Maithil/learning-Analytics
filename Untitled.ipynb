{
 "cells": [
  {
   "cell_type": "code",
   "execution_count": null,
   "id": "f1c1b365",
   "metadata": {},
   "outputs": [],
   "source": [
    "print(\"hello world\")"
   ]
  },
  {
   "cell_type": "markdown",
   "id": "2156ea5e",
   "metadata": {},
   "source": [
    "### Basis of python"
   ]
  },
  {
   "cell_type": "markdown",
   "id": "db28bbaa",
   "metadata": {},
   "source": [
    "### okay now it working"
   ]
  },
  {
   "cell_type": "markdown",
   "id": "2fe62a47",
   "metadata": {},
   "source": [
    "# is it work"
   ]
  },
  {
   "cell_type": "markdown",
   "id": "b97b1ae5",
   "metadata": {},
   "source": [
    "##ohhhhhh"
   ]
  },
  {
   "cell_type": "markdown",
   "id": "10753f12",
   "metadata": {},
   "source": [
    "####ohhhh shit"
   ]
  },
  {
   "cell_type": "markdown",
   "id": "8abb457a",
   "metadata": {},
   "source": [
    "## ohhhh"
   ]
  },
  {
   "cell_type": "code",
   "execution_count": null,
   "id": "ee95292e",
   "metadata": {},
   "outputs": [],
   "source": []
  },
  {
   "cell_type": "code",
   "execution_count": null,
   "id": "0f3af260",
   "metadata": {},
   "outputs": [],
   "source": [
    "a=5\n",
    "b=12\n",
    "c=a+b\n",
    "c"
   ]
  },
  {
   "cell_type": "code",
   "execution_count": null,
   "id": "e9d1bd33",
   "metadata": {},
   "outputs": [],
   "source": []
  },
  {
   "cell_type": "code",
   "execution_count": null,
   "id": "494b9465",
   "metadata": {},
   "outputs": [],
   "source": [
    "c"
   ]
  },
  {
   "cell_type": "code",
   "execution_count": null,
   "id": "f11a4af7",
   "metadata": {},
   "outputs": [],
   "source": [
    "a, b, c = 23, 24, \"helo\"\n",
    "b"
   ]
  },
  {
   "cell_type": "markdown",
   "id": "9edcccdb",
   "metadata": {},
   "source": []
  },
  {
   "cell_type": "code",
   "execution_count": null,
   "id": "75879101",
   "metadata": {},
   "outputs": [],
   "source": [
    "Name=\"lata\"\n",
    "Name"
   ]
  },
  {
   "cell_type": "code",
   "execution_count": null,
   "id": "73090a8d",
   "metadata": {},
   "outputs": [],
   "source": [
    "a=\"lata\"\n",
    "type(a)"
   ]
  },
  {
   "cell_type": "code",
   "execution_count": null,
   "id": "ddfb062b",
   "metadata": {},
   "outputs": [],
   "source": [
    "b=3.4\n",
    "type(b)"
   ]
  },
  {
   "cell_type": "code",
   "execution_count": null,
   "id": "36c5389d",
   "metadata": {},
   "outputs": [],
   "source": [
    "c=hai\n",
    "type(c)"
   ]
  },
  {
   "cell_type": "code",
   "execution_count": null,
   "id": "477be2f5",
   "metadata": {},
   "outputs": [],
   "source": [
    "c= hai\n",
    "type(c)"
   ]
  },
  {
   "cell_type": "code",
   "execution_count": null,
   "id": "8b26b806",
   "metadata": {},
   "outputs": [],
   "source": [
    "d=true\n",
    "type(d)"
   ]
  },
  {
   "cell_type": "code",
   "execution_count": null,
   "id": "e6c5652e",
   "metadata": {},
   "outputs": [],
   "source": [
    "d= True\n",
    "type(d)"
   ]
  },
  {
   "cell_type": "markdown",
   "id": "da86a147",
   "metadata": {},
   "source": [
    "### Data structure"
   ]
  },
  {
   "cell_type": "markdown",
   "id": "bf3ebac8",
   "metadata": {},
   "source": [
    "## 8 oct"
   ]
  },
  {
   "cell_type": "markdown",
   "id": "ffac957f",
   "metadata": {},
   "source": [
    "## list''''''\n",
    "## 1, allow heterogenous\n",
    "## 2. index start from 0\n",
    "## 3. mutable using index\n",
    "## 4. []"
   ]
  },
  {
   "cell_type": "code",
   "execution_count": null,
   "id": "af752d8c",
   "metadata": {},
   "outputs": [],
   "source": [
    "sample_list=[12, 43, 56,\"hi\", 1+2j, 6, 7]\n",
    "sample_list"
   ]
  },
  {
   "cell_type": "code",
   "execution_count": null,
   "id": "ccb0948e",
   "metadata": {},
   "outputs": [],
   "source": [
    "type (sample_list)"
   ]
  },
  {
   "cell_type": "code",
   "execution_count": null,
   "id": "ae7fa481",
   "metadata": {},
   "outputs": [],
   "source": [
    "type(sample_list)"
   ]
  },
  {
   "cell_type": "code",
   "execution_count": null,
   "id": "3223c4c7",
   "metadata": {},
   "outputs": [],
   "source": [
    "sample_list[0]"
   ]
  },
  {
   "cell_type": "code",
   "execution_count": null,
   "id": "e0ae762c",
   "metadata": {},
   "outputs": [],
   "source": [
    "sample_list[3]"
   ]
  },
  {
   "cell_type": "code",
   "execution_count": null,
   "id": "8e49221c",
   "metadata": {},
   "outputs": [],
   "source": [
    "sample_list[10]"
   ]
  },
  {
   "cell_type": "code",
   "execution_count": null,
   "id": "76902dd0",
   "metadata": {},
   "outputs": [],
   "source": [
    "sample_list[2]"
   ]
  },
  {
   "cell_type": "code",
   "execution_count": null,
   "id": "33975837",
   "metadata": {},
   "outputs": [],
   "source": [
    "sample_list[2]= 3.5"
   ]
  },
  {
   "cell_type": "code",
   "execution_count": null,
   "id": "a3da77e4",
   "metadata": {},
   "outputs": [],
   "source": [
    "sample_list"
   ]
  },
  {
   "cell_type": "code",
   "execution_count": null,
   "id": "b7703078",
   "metadata": {},
   "outputs": [],
   "source": [
    "sample_list[4]=100"
   ]
  },
  {
   "cell_type": "code",
   "execution_count": null,
   "id": "2c438dda",
   "metadata": {},
   "outputs": [],
   "source": [
    "sample_list"
   ]
  },
  {
   "cell_type": "code",
   "execution_count": null,
   "id": "af7a5b59",
   "metadata": {},
   "outputs": [],
   "source": [
    "sample_list.reverse()"
   ]
  },
  {
   "cell_type": "code",
   "execution_count": null,
   "id": "f80b5e53",
   "metadata": {},
   "outputs": [],
   "source": [
    "sample_list"
   ]
  },
  {
   "cell_type": "code",
   "execution_count": null,
   "id": "ae97c52f",
   "metadata": {},
   "outputs": [],
   "source": [
    "sample_list.sort()\n",
    "sample_list"
   ]
  },
  {
   "cell_type": "code",
   "execution_count": null,
   "id": "9c778ef1",
   "metadata": {},
   "outputs": [],
   "source": [
    "sample_list=[21,34,65,12,8.8]"
   ]
  },
  {
   "cell_type": "code",
   "execution_count": null,
   "id": "62ee2403",
   "metadata": {},
   "outputs": [],
   "source": [
    "sample_list.sort()\n",
    "sample_list"
   ]
  },
  {
   "cell_type": "markdown",
   "id": "ecb776a5",
   "metadata": {},
   "source": [
    "# Tuple"
   ]
  },
  {
   "cell_type": "markdown",
   "id": "cd863712",
   "metadata": {},
   "source": [
    "###### can be return as pranthesis abd no bracket"
   ]
  },
  {
   "cell_type": "markdown",
   "id": "94ef94f3",
   "metadata": {},
   "source": [
    "##### tuple cannot do reverse"
   ]
  },
  {
   "cell_type": "markdown",
   "id": "015374b6",
   "metadata": {},
   "source": [
    "###    1. allow heterogenous\n",
    "###    2. index start from 0 and Retriev using index\n",
    "###    3. Cannot change the data once declared- immutable\n",
    "###    4. ()"
   ]
  },
  {
   "cell_type": "code",
   "execution_count": null,
   "id": "b36a42ce",
   "metadata": {},
   "outputs": [],
   "source": [
    "sample_tuple = (1, 56, 3.5,\"hi\", 1+2j)\n",
    "sample_tuple"
   ]
  },
  {
   "cell_type": "code",
   "execution_count": null,
   "id": "d9c0963a",
   "metadata": {},
   "outputs": [],
   "source": [
    "type(sample_tuple)"
   ]
  },
  {
   "cell_type": "code",
   "execution_count": null,
   "id": "a182611b",
   "metadata": {},
   "outputs": [],
   "source": [
    "sample_tuple[4]"
   ]
  },
  {
   "cell_type": "code",
   "execution_count": null,
   "id": "a35d2de6",
   "metadata": {},
   "outputs": [],
   "source": [
    "sample_tuple.reverse()"
   ]
  },
  {
   "cell_type": "code",
   "execution_count": null,
   "id": "b3071bef",
   "metadata": {},
   "outputs": [],
   "source": [
    "type(sample_tuple)"
   ]
  },
  {
   "cell_type": "code",
   "execution_count": null,
   "id": "f390d383",
   "metadata": {},
   "outputs": [],
   "source": [
    "sample_tuple[4]"
   ]
  },
  {
   "cell_type": "code",
   "execution_count": null,
   "id": "178ee51f",
   "metadata": {},
   "outputs": [],
   "source": [
    "sample_tuple.reverse()"
   ]
  },
  {
   "cell_type": "code",
   "execution_count": null,
   "id": "ed29cd99",
   "metadata": {},
   "outputs": [],
   "source": [
    "sample_tuple[3]"
   ]
  },
  {
   "cell_type": "code",
   "execution_count": null,
   "id": "2c567fad",
   "metadata": {},
   "outputs": [],
   "source": [
    "sample_tuple[3]=13"
   ]
  },
  {
   "cell_type": "code",
   "execution_count": null,
   "id": "330a60f5",
   "metadata": {},
   "outputs": [],
   "source": [
    "x=(1,2,3)\n",
    "y=list(x)\n",
    "y"
   ]
  },
  {
   "cell_type": "code",
   "execution_count": null,
   "id": "6efc3edf",
   "metadata": {},
   "outputs": [],
   "source": [
    "sample_tuple[3]"
   ]
  },
  {
   "cell_type": "code",
   "execution_count": null,
   "id": "6a2ab02b",
   "metadata": {},
   "outputs": [],
   "source": [
    "sample_tuple[y]"
   ]
  },
  {
   "cell_type": "code",
   "execution_count": null,
   "id": "fe19cd1f",
   "metadata": {},
   "outputs": [],
   "source": [
    "tuple=(10,20,30)\n",
    "name_list=list(tuple)\n",
    "name_list"
   ]
  },
  {
   "cell_type": "code",
   "execution_count": null,
   "id": "e9cf0d13",
   "metadata": {},
   "outputs": [],
   "source": [
    "y.remove(3)\n",
    "y"
   ]
  },
  {
   "cell_type": "code",
   "execution_count": null,
   "id": "74a5cd2e",
   "metadata": {},
   "outputs": [],
   "source": [
    "y.append(35)   ## apend mean add\n",
    "y"
   ]
  },
  {
   "cell_type": "markdown",
   "id": "f689d618",
   "metadata": {},
   "source": [
    "## sample set"
   ]
  },
  {
   "cell_type": "markdown",
   "id": "26b29d8a",
   "metadata": {},
   "source": [
    "#### 1. add hetrogenous\n",
    "#### 2. Does not allow duplicates\n",
    "#### 3. Cannot using index\n",
    "#### 4. ordered first place"
   ]
  },
  {
   "cell_type": "code",
   "execution_count": 2,
   "id": "5fe12ac7",
   "metadata": {},
   "outputs": [
    {
     "data": {
      "text/plain": [
       "set"
      ]
     },
     "execution_count": 2,
     "metadata": {},
     "output_type": "execute_result"
    }
   ],
   "source": [
    "sample_set={1,43,23,45,67,22,21,32,0,66,0,23,43,1,\"a\",\"abs\"}\n",
    "type(sample_set)"
   ]
  },
  {
   "cell_type": "code",
   "execution_count": 3,
   "id": "00e5020f",
   "metadata": {},
   "outputs": [
    {
     "data": {
      "text/plain": [
       "{0, 1, 21, 22, 23, 32, 43, 45, 66, 67, 'a', 'abs'}"
      ]
     },
     "execution_count": 3,
     "metadata": {},
     "output_type": "execute_result"
    }
   ],
   "source": [
    "sample_set"
   ]
  },
  {
   "cell_type": "code",
   "execution_count": 4,
   "id": "f495009d",
   "metadata": {},
   "outputs": [
    {
     "ename": "TypeError",
     "evalue": "'set' object is not subscriptable",
     "output_type": "error",
     "traceback": [
      "\u001b[1;31m---------------------------------------------------------------------------\u001b[0m",
      "\u001b[1;31mTypeError\u001b[0m                                 Traceback (most recent call last)",
      "\u001b[1;32m<ipython-input-4-e9af49f3aca4>\u001b[0m in \u001b[0;36m<module>\u001b[1;34m\u001b[0m\n\u001b[1;32m----> 1\u001b[1;33m \u001b[0msample_set\u001b[0m\u001b[1;33m[\u001b[0m\u001b[1;36m2\u001b[0m\u001b[1;33m]\u001b[0m\u001b[1;33m\u001b[0m\u001b[1;33m\u001b[0m\u001b[0m\n\u001b[0m",
      "\u001b[1;31mTypeError\u001b[0m: 'set' object is not subscriptable"
     ]
    }
   ],
   "source": [
    "sample_set[2]"
   ]
  },
  {
   "cell_type": "code",
   "execution_count": 5,
   "id": "d180fcab",
   "metadata": {},
   "outputs": [],
   "source": [
    "sample_set.remove(43)"
   ]
  },
  {
   "cell_type": "code",
   "execution_count": 6,
   "id": "9a81a554",
   "metadata": {},
   "outputs": [
    {
     "data": {
      "text/plain": [
       "{0, 1, 21, 22, 23, 32, 45, 66, 67, 'a', 'abs'}"
      ]
     },
     "execution_count": 6,
     "metadata": {},
     "output_type": "execute_result"
    }
   ],
   "source": [
    "sample_set"
   ]
  },
  {
   "cell_type": "code",
   "execution_count": 8,
   "id": "3b06e3df",
   "metadata": {},
   "outputs": [
    {
     "data": {
      "text/plain": [
       "{0, 1, 21, 22, 23, 32, 45, 66, 67, 99, 'a', 'abs'}"
      ]
     },
     "execution_count": 8,
     "metadata": {},
     "output_type": "execute_result"
    }
   ],
   "source": [
    "sample_set.add(99)\n",
    "sample_set"
   ]
  },
  {
   "cell_type": "markdown",
   "id": "83b14f93",
   "metadata": {},
   "source": [
    "# Dictonary"
   ]
  },
  {
   "cell_type": "markdown",
   "id": "206f29a8",
   "metadata": {},
   "source": [
    "### dicionary as key value pair datasructure\n",
    "### key is unique and value can be duplicated\n",
    "### can retrieve the value using key\n",
    "### can change the value using key\n",
    "### key is immutable"
   ]
  },
  {
   "cell_type": "code",
   "execution_count": 12,
   "id": "3d1bf1dd",
   "metadata": {},
   "outputs": [
    {
     "data": {
      "text/plain": [
       "dict"
      ]
     },
     "execution_count": 12,
     "metadata": {},
     "output_type": "execute_result"
    }
   ],
   "source": [
    "sample_dict= {\"a\":\"alpha\",1:\"first\",2:\"second\",3:\"third\",5:\"fourth\",6:\"sixth\"}\n",
    "type(sample_dict)"
   ]
  },
  {
   "cell_type": "code",
   "execution_count": 13,
   "id": "0d7d6fc9",
   "metadata": {},
   "outputs": [
    {
     "data": {
      "text/plain": [
       "{'a': 'alpha', 1: 'first', 2: 'second', 3: 'third', 5: 'fourth', 6: 'sixth'}"
      ]
     },
     "execution_count": 13,
     "metadata": {},
     "output_type": "execute_result"
    }
   ],
   "source": [
    "sample_dict"
   ]
  },
  {
   "cell_type": "code",
   "execution_count": 14,
   "id": "030427e8",
   "metadata": {},
   "outputs": [
    {
     "data": {
      "text/plain": [
       "'alpha'"
      ]
     },
     "execution_count": 14,
     "metadata": {},
     "output_type": "execute_result"
    }
   ],
   "source": [
    "sample_dict[\"a\"]"
   ]
  },
  {
   "cell_type": "code",
   "execution_count": 15,
   "id": "5316380e",
   "metadata": {},
   "outputs": [
    {
     "data": {
      "text/plain": [
       "'fourth'"
      ]
     },
     "execution_count": 15,
     "metadata": {},
     "output_type": "execute_result"
    }
   ],
   "source": [
    "sample_dict[5]"
   ]
  },
  {
   "cell_type": "code",
   "execution_count": 16,
   "id": "1341ec52",
   "metadata": {},
   "outputs": [],
   "source": [
    "sample_dict[5]=\"fifth\""
   ]
  },
  {
   "cell_type": "code",
   "execution_count": 17,
   "id": "82caf06c",
   "metadata": {},
   "outputs": [
    {
     "data": {
      "text/plain": [
       "{'a': 'alpha', 1: 'first', 2: 'second', 3: 'third', 5: 'fifth', 6: 'sixth'}"
      ]
     },
     "execution_count": 17,
     "metadata": {},
     "output_type": "execute_result"
    }
   ],
   "source": [
    "sample_dict"
   ]
  },
  {
   "cell_type": "code",
   "execution_count": 18,
   "id": "5af97183",
   "metadata": {},
   "outputs": [
    {
     "data": {
      "text/plain": [
       "{'a': 'alpha',\n",
       " 1: 'first',\n",
       " 2: 'second',\n",
       " 3: 'third',\n",
       " 5: 'fifth',\n",
       " 6: 'sixth',\n",
       " 7: 'seventh'}"
      ]
     },
     "execution_count": 18,
     "metadata": {},
     "output_type": "execute_result"
    }
   ],
   "source": [
    "sample_dict[7]=\"seventh\"\n",
    "sample_dict"
   ]
  },
  {
   "cell_type": "code",
   "execution_count": 19,
   "id": "2cfa4d58",
   "metadata": {},
   "outputs": [
    {
     "ename": "AttributeError",
     "evalue": "'dict' object has no attribute 'reverse'",
     "output_type": "error",
     "traceback": [
      "\u001b[1;31m---------------------------------------------------------------------------\u001b[0m",
      "\u001b[1;31mAttributeError\u001b[0m                            Traceback (most recent call last)",
      "\u001b[1;32m<ipython-input-19-30df3e04ae26>\u001b[0m in \u001b[0;36m<module>\u001b[1;34m\u001b[0m\n\u001b[1;32m----> 1\u001b[1;33m \u001b[0msample_dict\u001b[0m\u001b[1;33m.\u001b[0m\u001b[0mreverse\u001b[0m\u001b[1;33m(\u001b[0m\u001b[1;33m)\u001b[0m\u001b[1;33m\u001b[0m\u001b[1;33m\u001b[0m\u001b[0m\n\u001b[0m",
      "\u001b[1;31mAttributeError\u001b[0m: 'dict' object has no attribute 'reverse'"
     ]
    }
   ],
   "source": [
    "sample_dict.reverse()"
   ]
  },
  {
   "cell_type": "markdown",
   "id": "7961bd00",
   "metadata": {},
   "source": [
    "# String"
   ]
  },
  {
   "cell_type": "markdown",
   "id": "6e4f40aa",
   "metadata": {},
   "source": [
    "##### 1. String can be retrived usin index\n",
    "##### 2. String is immutable"
   ]
  },
  {
   "cell_type": "code",
   "execution_count": 20,
   "id": "17347b1f",
   "metadata": {},
   "outputs": [],
   "source": [
    "a=\"hi how are you\""
   ]
  },
  {
   "cell_type": "code",
   "execution_count": 21,
   "id": "bf1b8dee",
   "metadata": {},
   "outputs": [
    {
     "data": {
      "text/plain": [
       "str"
      ]
     },
     "execution_count": 21,
     "metadata": {},
     "output_type": "execute_result"
    }
   ],
   "source": [
    "type(a)"
   ]
  },
  {
   "cell_type": "code",
   "execution_count": 22,
   "id": "e36fc768",
   "metadata": {},
   "outputs": [
    {
     "data": {
      "text/plain": [
       "'i'"
      ]
     },
     "execution_count": 22,
     "metadata": {},
     "output_type": "execute_result"
    }
   ],
   "source": [
    "a[1]"
   ]
  },
  {
   "cell_type": "code",
   "execution_count": 23,
   "id": "40ef14fa",
   "metadata": {},
   "outputs": [
    {
     "data": {
      "text/plain": [
       "' '"
      ]
     },
     "execution_count": 23,
     "metadata": {},
     "output_type": "execute_result"
    }
   ],
   "source": [
    "a[10]"
   ]
  },
  {
   "cell_type": "code",
   "execution_count": 24,
   "id": "61e9201b",
   "metadata": {},
   "outputs": [
    {
     "data": {
      "text/plain": [
       "'h'"
      ]
     },
     "execution_count": 24,
     "metadata": {},
     "output_type": "execute_result"
    }
   ],
   "source": [
    "a[3]"
   ]
  },
  {
   "cell_type": "code",
   "execution_count": 25,
   "id": "e9c9b268",
   "metadata": {},
   "outputs": [
    {
     "ename": "TypeError",
     "evalue": "'str' object does not support item assignment",
     "output_type": "error",
     "traceback": [
      "\u001b[1;31m---------------------------------------------------------------------------\u001b[0m",
      "\u001b[1;31mTypeError\u001b[0m                                 Traceback (most recent call last)",
      "\u001b[1;32m<ipython-input-25-ec95fba30ac3>\u001b[0m in \u001b[0;36m<module>\u001b[1;34m\u001b[0m\n\u001b[1;32m----> 1\u001b[1;33m \u001b[0ma\u001b[0m\u001b[1;33m[\u001b[0m\u001b[1;36m3\u001b[0m\u001b[1;33m]\u001b[0m\u001b[1;33m=\u001b[0m\u001b[1;34m'u'\u001b[0m\u001b[1;33m\u001b[0m\u001b[1;33m\u001b[0m\u001b[0m\n\u001b[0m",
      "\u001b[1;31mTypeError\u001b[0m: 'str' object does not support item assignment"
     ]
    }
   ],
   "source": [
    "a[3]='u'"
   ]
  },
  {
   "cell_type": "code",
   "execution_count": null,
   "id": "636fd460",
   "metadata": {},
   "outputs": [],
   "source": []
  }
 ],
 "metadata": {
  "kernelspec": {
   "display_name": "Python 3",
   "language": "python",
   "name": "python3"
  },
  "language_info": {
   "codemirror_mode": {
    "name": "ipython",
    "version": 3
   },
   "file_extension": ".py",
   "mimetype": "text/x-python",
   "name": "python",
   "nbconvert_exporter": "python",
   "pygments_lexer": "ipython3",
   "version": "3.8.8"
  }
 },
 "nbformat": 4,
 "nbformat_minor": 5
}
